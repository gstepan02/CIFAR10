{
  "cells": [
    {
      "cell_type": "code",
      "execution_count": null,
      "metadata": {
        "colab": {
          "base_uri": "https://localhost:8080/"
        },
        "id": "kUB8n-xeno9l",
        "outputId": "e24ac04c-635b-48ac-eb78-f601a086c756"
      },
      "outputs": [
        {
          "name": "stdout",
          "output_type": "stream",
          "text": [
            "cpu\n"
          ]
        }
      ],
      "source": [
        "import torch\n",
        "import torch.nn as nn\n",
        "import torch.nn.functional as F\n",
        "import torch.optim as optim\n",
        "import torchvision.transforms as transforms\n",
        "import torchvision.datasets as datasets\n",
        "from torch.utils.data import DataLoader\n",
        "import pandas as pd\n",
        "import os\n",
        "from sklearn.metrics import accuracy_score\n",
        "from sklearn.discriminant_analysis import LinearDiscriminantAnalysis\n",
        "from sklearn.linear_model import LogisticRegression\n",
        "from sklearn.metrics import accuracy_score\n",
        "\n",
        "device = torch.device(\"cuda:0\" if torch.cuda.is_available() else \"cpu\")\n",
        "print (device)"
      ]
    },
    {
      "cell_type": "code",
      "execution_count": null,
      "metadata": {
        "colab": {
          "base_uri": "https://localhost:8080/"
        },
        "id": "wlBOG08nnvmA",
        "outputId": "f41cdafa-9f2d-4734-d151-ac95a867a1ea"
      },
      "outputs": [
        {
          "name": "stdout",
          "output_type": "stream",
          "text": [
            "Files already downloaded and verified\n",
            "Files already downloaded and verified\n"
          ]
        }
      ],
      "source": [
        "# Downloading and preprocessing the data\n",
        "transform = transforms.Compose([transforms.ToTensor(), transforms.Normalize((0.5, 0.5, 0.5), (0.5, 0.5, 0.5))])\n",
        "\n",
        "batch_size = 4\n",
        "\n",
        "train_dataset = datasets.CIFAR10(root='./data', train=True, download=True, transform=transform)\n",
        "train_loader = torch.utils.data.DataLoader(train_dataset, batch_size=batch_size, shuffle=True, num_workers=2)\n",
        "\n",
        "test_dataset = datasets.CIFAR10(root='./data', train=False, download=True, transform=transform)\n",
        "test_loader = torch.utils.data.DataLoader(test_dataset, batch_size=batch_size, shuffle=False, num_workers=2)\n",
        "\n",
        "classes = ('plane', 'car', 'bird', 'cat', 'deer', 'dog', 'frog', 'horse', 'ship', 'truck')"
      ]
    },
    {
      "cell_type": "code",
      "execution_count": null,
      "metadata": {
        "colab": {
          "base_uri": "https://localhost:8080/"
        },
        "id": "UY6gWz7CofSE",
        "outputId": "2907893b-08c8-43cf-a0fc-80fd2a4fe124"
      },
      "outputs": [
        {
          "data": {
            "text/plain": [
              "Net(\n",
              "  (conv1): Conv2d(3, 6, kernel_size=(5, 5), stride=(1, 1))\n",
              "  (pool): MaxPool2d(kernel_size=2, stride=2, padding=0, dilation=1, ceil_mode=False)\n",
              "  (conv2): Conv2d(6, 16, kernel_size=(5, 5), stride=(1, 1))\n",
              "  (fc1): Linear(in_features=400, out_features=120, bias=True)\n",
              "  (fc2): Linear(in_features=120, out_features=84, bias=True)\n",
              "  (fc3): Linear(in_features=84, out_features=10, bias=True)\n",
              ")"
            ]
          },
          "execution_count": 69,
          "metadata": {},
          "output_type": "execute_result"
        }
      ],
      "source": [
        "class Net(nn.Module):\n",
        "    def __init__(self):\n",
        "        super().__init__()\n",
        "        self.conv1 = nn.Conv2d(3, 6, 5)\n",
        "        self.pool = nn.MaxPool2d(2, 2)\n",
        "        self.conv2 = nn.Conv2d(6, 16, 5)\n",
        "        self.fc1 = nn.Linear(16 * 5 * 5, 120)\n",
        "        self.fc2 = nn.Linear(120, 84)\n",
        "        self.fc3 = nn.Linear(84, 10)\n",
        "\n",
        "    def forward(self, x):\n",
        "        x = self.pool(F.relu(self.conv1(x)))\n",
        "        x = self.pool(F.relu(self.conv2(x)))\n",
        "        x = torch.flatten(x, 1) # flatten all dimensions except batch\n",
        "        x = F.relu(self.fc1(x))\n",
        "        x = F.relu(self.fc2(x))\n",
        "        x = self.fc3(x)\n",
        "        return x\n",
        "\n",
        "\n",
        "net = Net()\n",
        "net.to(device)"
      ]
    },
    {
      "cell_type": "code",
      "execution_count": null,
      "metadata": {
        "id": "u5cFLtwEp-Ns"
      },
      "outputs": [],
      "source": [
        "criterion = nn.CrossEntropyLoss()\n",
        "optimizer = optim.SGD(net.parameters(), lr=0.001, momentum=0.9)"
      ]
    },
    {
      "cell_type": "code",
      "execution_count": null,
      "metadata": {
        "colab": {
          "base_uri": "https://localhost:8080/"
        },
        "id": "Cs2VUDRMqAtP",
        "outputId": "6eedc7e9-21f7-4227-b19c-0d5d8db5c843"
      },
      "outputs": [
        {
          "name": "stdout",
          "output_type": "stream",
          "text": [
            "[1,  2000] loss: 2.222\n",
            "[1,  4000] loss: 1.918\n",
            "[1,  6000] loss: 1.713\n",
            "[1,  8000] loss: 1.622\n",
            "[1, 10000] loss: 1.519\n",
            "[1, 12000] loss: 1.495\n",
            "[2,  2000] loss: 1.406\n",
            "[2,  4000] loss: 1.373\n",
            "[2,  6000] loss: 1.365\n",
            "[2,  8000] loss: 1.315\n",
            "[2, 10000] loss: 1.283\n",
            "[2, 12000] loss: 1.295\n",
            "[3,  2000] loss: 1.191\n",
            "[3,  4000] loss: 1.214\n",
            "[3,  6000] loss: 1.202\n",
            "[3,  8000] loss: 1.188\n",
            "[3, 10000] loss: 1.180\n",
            "[3, 12000] loss: 1.159\n",
            "Finished Training\n"
          ]
        }
      ],
      "source": [
        "for epoch in range(3): \n",
        "    running_loss = 0.0\n",
        "    for i, data in enumerate(train_loader, 0):\n",
        "        inputs, labels = data[0].to(device), data[1].to(device)\n",
        "        optimizer.zero_grad()\n",
        "        outputs = net(inputs)\n",
        "        loss = criterion(outputs, labels)\n",
        "        loss.backward()\n",
        "        optimizer.step()\n",
        "        running_loss += loss.item()\n",
        "        if i % 2000 == 1999:    # print every 2000 mini-batches\n",
        "            print(f'[{epoch + 1}, {i + 1:5d}] loss: {running_loss / 2000:.3f}')\n",
        "            running_loss = 0.0\n",
        "print('Finished Training')"
      ]
    },
    {
      "cell_type": "code",
      "execution_count": null,
      "metadata": {
        "id": "KPq977jEqVVZ"
      },
      "outputs": [],
      "source": [
        "PATH = './cifar_net.pth'\n",
        "torch.save(net.state_dict(), PATH)"
      ]
    },
    {
      "cell_type": "code",
      "execution_count": null,
      "metadata": {
        "colab": {
          "base_uri": "https://localhost:8080/"
        },
        "id": "bgxjvXjHrkjO",
        "outputId": "a3b1f588-1aee-4416-bd43-5805830c41c3"
      },
      "outputs": [
        {
          "data": {
            "text/plain": [
              "Net(\n",
              "  (conv1): Conv2d(3, 6, kernel_size=(5, 5), stride=(1, 1))\n",
              "  (pool): MaxPool2d(kernel_size=2, stride=2, padding=0, dilation=1, ceil_mode=False)\n",
              "  (conv2): Conv2d(6, 16, kernel_size=(5, 5), stride=(1, 1))\n",
              "  (fc1): Linear(in_features=400, out_features=120, bias=True)\n",
              "  (fc2): Linear(in_features=120, out_features=84, bias=True)\n",
              "  (fc3): Linear(in_features=84, out_features=10, bias=True)\n",
              ")"
            ]
          },
          "execution_count": 73,
          "metadata": {},
          "output_type": "execute_result"
        }
      ],
      "source": [
        "net = Net()\n",
        "net.load_state_dict(torch.load('cifar_net.pth'))\n",
        "net.to(device)"
      ]
    },
    {
      "cell_type": "code",
      "execution_count": null,
      "metadata": {
        "colab": {
          "base_uri": "https://localhost:8080/"
        },
        "id": "FfTA6mttqmQk",
        "outputId": "e45adb7b-edaf-4b2b-d6bd-c45d139cfc51"
      },
      "outputs": [
        {
          "name": "stdout",
          "output_type": "stream",
          "text": [
            "Accuracy of the network on the 10000 test images: 56 %\n"
          ]
        }
      ],
      "source": [
        "correct = 0\n",
        "total = 0\n",
        "with torch.no_grad():\n",
        "    for data in test_loader:\n",
        "        images, labels = data[0].to(device), data[1].to(device)\n",
        "        outputs = net(images)\n",
        "        _, predicted = torch.max(outputs.data, 1)\n",
        "        total += labels.size(0)\n",
        "        correct += (predicted == labels).sum().item()\n",
        "print(f'Accuracy of the network on the 10000 test images: {100 * correct // total} %')"
      ]
    },
    {
      "cell_type": "code",
      "execution_count": null,
      "metadata": {
        "colab": {
          "base_uri": "https://localhost:8080/"
        },
        "id": "XuYILXAFqtdx",
        "outputId": "b5655fc3-773c-4a0a-c5e7-ecc27afa596f"
      },
      "outputs": [
        {
          "name": "stdout",
          "output_type": "stream",
          "text": [
            "Accuracy for class: plane is 68.1 %\n",
            "Accuracy for class: car   is 62.6 %\n",
            "Accuracy for class: bird  is 41.9 %\n",
            "Accuracy for class: cat   is 21.6 %\n",
            "Accuracy for class: deer  is 35.3 %\n",
            "Accuracy for class: dog   is 45.5 %\n",
            "Accuracy for class: frog  is 90.0 %\n",
            "Accuracy for class: horse is 63.2 %\n",
            "Accuracy for class: ship  is 64.4 %\n",
            "Accuracy for class: truck is 76.8 %\n"
          ]
        }
      ],
      "source": [
        "correct_pred = {classname: 0 for classname in classes}\n",
        "total_pred = {classname: 0 for classname in classes}\n",
        "\n",
        "with torch.no_grad():\n",
        "    for data in test_loader:\n",
        "        images, labels = data[0].to(device), data[1].to(device)\n",
        "        outputs = net(images)\n",
        "        _, predictions = torch.max(outputs, 1)\n",
        "        for label, prediction in zip(labels, predictions):\n",
        "            if label == prediction:\n",
        "                correct_pred[classes[label]] += 1\n",
        "            total_pred[classes[label]] += 1\n",
        "\n",
        "for classname, correct_count in correct_pred.items():\n",
        "    accuracy = 100 * float(correct_count) / total_pred[classname]\n",
        "    print(f'Accuracy for class: {classname:5s} is {accuracy:.1f} %')"
      ]
    },
    {
      "cell_type": "code",
      "execution_count": null,
      "metadata": {
        "id": "CpTGbusjnwBy"
      },
      "outputs": [],
      "source": [
        "# Feature extraction algorithm\n",
        "def extract_features(loader, model, dataset):\n",
        "    features = []\n",
        "    filenames = []\n",
        "\n",
        "    model.eval()\n",
        "    with torch.no_grad():\n",
        "        for images, labels in loader:\n",
        "            images = images.to(device)\n",
        "            outputs = model(images)\n",
        "            features.append(outputs)\n",
        "            filenames.extend(list(dataset.data[:len(filenames)]))\n",
        "    features = torch.cat(features, dim=0)\n",
        "\n",
        "    return features, filenames"
      ]
    },
    {
      "cell_type": "code",
      "execution_count": null,
      "metadata": {
        "id": "ZQBLT65jn4Dv"
      },
      "outputs": [],
      "source": [
        "train_features, train_filenames = extract_features(train_loader, net, train_dataset)\n",
        "test_features, test_filenames = extract_features(test_loader, net, test_dataset)"
      ]
    },
    {
      "cell_type": "code",
      "execution_count": null,
      "metadata": {
        "colab": {
          "base_uri": "https://localhost:8080/"
        },
        "id": "T_31eDSNvPcw",
        "outputId": "7f4ac37c-0dee-4fe9-8938-b5ee4da69011"
      },
      "outputs": [
        {
          "name": "stdout",
          "output_type": "stream",
          "text": [
            "Features are saved in train_features.csv and test_features.csv\n"
          ]
        }
      ],
      "source": [
        "# Creating DataFrame for train set\n",
        "train_df = pd.DataFrame(train_features.cpu().numpy())\n",
        "\n",
        "# Renam columns '0', '1', '2', ... to 'feature_Y' for train set\n",
        "train_df.columns = [f'feature_{i}' for i in range(train_df.shape[1])]\n",
        "\n",
        "# Adding a 'Case_Number' column with instance names for train set\n",
        "train_df.insert(0, 'Case_Number', [f'Case_{i}' for i in range(train_df.shape[0])])\n",
        "\n",
        "# Adding a 'target' column with CIFAR-10 target classes for train set\n",
        "train_df['target'] = train_dataset.targets\n",
        "\n",
        "# Get unique values from the 'target' column\n",
        "unique_targets = sorted(train_df['target'].unique())\n",
        "\n",
        "# Create new columns for each unique 'target' value\n",
        "for target in unique_targets:\n",
        "    train_df[target] = (train_df['target'] == target).astype(int)\n",
        "\n",
        "# Cut out the column with the 'target' header\n",
        "target_column = train_df.pop('target')\n",
        "\n",
        "# Insert it at the last position\n",
        "train_df['target'] = target_column\n",
        "\n",
        "# Saving train set features to a CSV file\n",
        "train_df.to_csv('./train_features.csv', index=False)\n",
        "\n",
        "# Creating DataFrame for test set\n",
        "test_df = pd.DataFrame(test_features.cpu().numpy())\n",
        "\n",
        "# Rename columns '0', '1', '2', ... to 'feature_Y' for test set\n",
        "test_df.columns = [f'feature_{i}' for i in range(test_df.shape[1])]\n",
        "\n",
        "# Adding a 'Case_Number' column with instance names for test set\n",
        "test_df.insert(0, 'Case_Number', [f'Case_{i}' for i in range(test_df.shape[0])])\n",
        "\n",
        "# Adding a 'target' column with CIFAR-10 target classes for test set\n",
        "test_df['target'] = test_dataset.targets\n",
        "\n",
        "# Get unique values from the 'target' column\n",
        "unique_targets = sorted(test_df['target'].unique())\n",
        "\n",
        "# Create new columns for each unique 'target' value\n",
        "for target in unique_targets:\n",
        "    test_df[target] = (test_df['target'] == target).astype(int)\n",
        "\n",
        "# Cut out the column with the 'target' header\n",
        "target_column = test_df.pop('target')\n",
        "\n",
        "# Insert it at the last position\n",
        "test_df['target'] = target_column\n",
        "\n",
        "# Saving test set features to a CSV file\n",
        "test_df.to_csv('./test_features.csv', index=False)\n",
        "\n",
        "print(\"Features are saved in train_features.csv and test_features.csv\")"
      ]
    },
    {
      "cell_type": "code",
      "execution_count": null,
      "metadata": {
        "colab": {
          "base_uri": "https://localhost:8080/"
        },
        "id": "8CbQ7j-vvZYR",
        "outputId": "361adc6f-ea74-4611-d198-ca50a5a66110"
      },
      "outputs": [
        {
          "name": "stdout",
          "output_type": "stream",
          "text": [
            "Train file size: 6.60 MB\n",
            "Number of lines in train file: 50000\n",
            "Number of columns in train file: 22\n",
            "\n",
            "Test file size: 1.31 MB\n",
            "Number of lines in test file: 10000\n",
            "Number of columns in test file: 22\n",
            "\n",
            "Features from 1 to 11\n"
          ]
        }
      ],
      "source": [
        "# Specify the path to the CSV files\n",
        "csv_train_file_path = \"train_features.csv\"\n",
        "csv_test_file_path = \"test_features.csv\"\n",
        "\n",
        "# Check if file exists\n",
        "if not os.path.exists(csv_train_file_path):\n",
        "    print(f\"File {csv_train_file_path} does not exist.\")\n",
        "else:\n",
        "    # Upload CSV file\n",
        "    df = pd.read_csv(csv_train_file_path)\n",
        "\n",
        "    # Get file size in bytes\n",
        "    file_size_bytes = os.path.getsize(csv_train_file_path)\n",
        "\n",
        "    # Convert size to megabytes\n",
        "    file_size_mb = file_size_bytes / (1024 * 1024)\n",
        "\n",
        "    # Get information about the number of rows and columns\n",
        "    num_rows, num_columns = df.shape\n",
        "\n",
        "    # Print information\n",
        "    print(f\"Train file size: {file_size_mb:.2f} MB\")\n",
        "    print(f\"Number of lines in train file: {num_rows}\")\n",
        "    print(f\"Number of columns in train file: {num_columns}\")\n",
        "\n",
        "# Check if file exists\n",
        "if not os.path.exists(csv_test_file_path):\n",
        "    print(f\"File {csv_test_file_path} does not exist.\")\n",
        "else:\n",
        "    # Upload CSV file\n",
        "    df = pd.read_csv(csv_test_file_path)\n",
        "\n",
        "    # Get file size in bytes\n",
        "    file_size_bytes = os.path.getsize(csv_test_file_path)\n",
        "\n",
        "    # Convert size to megabytes\n",
        "    file_size_mb = file_size_bytes / (1024 * 1024)\n",
        "\n",
        "    # Get information about the number of rows and columns\n",
        "    num_rows, num_columns = df.shape\n",
        "\n",
        "    # Print information\n",
        "    print(f\"\\nTest file size: {file_size_mb:.2f} MB\")\n",
        "    print(f\"Number of lines in test file: {num_rows}\")\n",
        "    print(f\"Number of columns in test file: {num_columns}\")\n",
        "    print(f\"\\nFeatures from 1 to {num_columns-11}\")"
      ]
    },
    {
      "cell_type": "code",
      "execution_count": null,
      "metadata": {
        "colab": {
          "base_uri": "https://localhost:8080/"
        },
        "id": "ifp5JLHSvgHo",
        "outputId": "a4a9d73b-be49-497b-dd5d-19e3cbd396c5"
      },
      "outputs": [
        {
          "name": "stdout",
          "output_type": "stream",
          "text": [
            "Accuracy on the training data: 10.54%\n",
            "Error rate on the training data: 89.46%\n",
            "Accuracy on the test data: 9.23%\n",
            "Error rate on the test data: 90.77%\n",
            "\n",
            "Predicted class counts in training data:\n",
            "0     274\n",
            "1    3370\n",
            "2    4412\n",
            "3    5983\n",
            "4    5108\n",
            "5    2799\n",
            "6    7457\n",
            "7    4803\n",
            "8    8813\n",
            "9    6981\n",
            "dtype: int64\n",
            "\n",
            "Predicted class counts in test data:\n",
            "0      53\n",
            "1     695\n",
            "2     838\n",
            "3    1181\n",
            "4    1017\n",
            "5     581\n",
            "6    1504\n",
            "7     966\n",
            "8    1783\n",
            "9    1382\n",
            "dtype: int64\n"
          ]
        }
      ],
      "source": [
        "#LDA\n",
        "# Load training data from a CSV file\n",
        "csv_train_file_path = \"test_features.csv\"\n",
        "train_data = pd.read_csv('train_features.csv')\n",
        "\n",
        "# Load test data from a separate CSV file\n",
        "test_data = pd.read_csv('test_features.csv')\n",
        "\n",
        "# Prepare training data\n",
        "X_train = train_data.iloc[:, 1:11]  # Select features\n",
        "y_train = train_data['target']  # Target variable\n",
        "\n",
        "# Prepare test data\n",
        "X_test = test_data.iloc[:, 1:11]  # Select features\n",
        "y_test = test_data['target']  # Target variable\n",
        "\n",
        "# Train the LDA model on the training data\n",
        "lda = LinearDiscriminantAnalysis()\n",
        "lda.fit(X_train, y_train)\n",
        "\n",
        "# Predict classes for the training data\n",
        "y_train_pred = lda.predict(X_train)\n",
        "\n",
        "# Predict classes for the test data\n",
        "y_pred = lda.predict(X_test)\n",
        "\n",
        "# Evaluate model accuracy on the training data\n",
        "train_accuracy = accuracy_score(y_train, y_train_pred)\n",
        "train_error_rate = 1 - train_accuracy\n",
        "\n",
        "# Evaluate model accuracy on the test data\n",
        "accuracy = accuracy_score(y_test, y_pred)\n",
        "error_rate = 1 - accuracy\n",
        "\n",
        "print(f'Accuracy on the training data: {train_accuracy * 100:.2f}%')\n",
        "print(f'Error rate on the training data: {train_error_rate * 100:.2f}%')\n",
        "print(f'Accuracy on the test data: {accuracy * 100:.2f}%')\n",
        "print(f'Error rate on the test data: {error_rate * 100:.2f}%')\n",
        "\n",
        "# Count the number of elements in each predicted class for the training data\n",
        "predicted_class_counts_train = pd.Series(y_train_pred).value_counts().sort_index()\n",
        "print(\"\\nPredicted class counts in training data:\")\n",
        "print(predicted_class_counts_train)\n",
        "\n",
        "# Count the number of elements in each predicted class for the test data\n",
        "predicted_class_counts_test = pd.Series(y_pred).value_counts().sort_index()\n",
        "print(\"\\nPredicted class counts in test data:\")\n",
        "print(predicted_class_counts_test)"
      ]
    },
    {
      "cell_type": "code",
      "execution_count": null,
      "metadata": {
        "colab": {
          "base_uri": "https://localhost:8080/"
        },
        "id": "C5tt52tBviuV",
        "outputId": "f8ccbc97-8616-4c21-964c-cb348f614c8b"
      },
      "outputs": [
        {
          "name": "stdout",
          "output_type": "stream",
          "text": [
            "Accuracy on the training data: 10.53%\n",
            "Error rate on the training data: 89.47%\n",
            "Accuracy on the test data: 9.19%\n",
            "Error rate on the test data: 90.81%\n",
            "\n",
            "Predicted class counts in training data:\n",
            "0     282\n",
            "1    3386\n",
            "2    4360\n",
            "3    5943\n",
            "4    5130\n",
            "5    2906\n",
            "6    7491\n",
            "7    4878\n",
            "8    8732\n",
            "9    6892\n",
            "dtype: int64\n",
            "\n",
            "Predicted class counts in test data:\n",
            "0      56\n",
            "1     696\n",
            "2     832\n",
            "3    1178\n",
            "4    1022\n",
            "5     596\n",
            "6    1507\n",
            "7     966\n",
            "8    1775\n",
            "9    1372\n",
            "dtype: int64\n"
          ]
        }
      ],
      "source": [
        "#Logistic Regression\n",
        "# Load training data from a CSV file\n",
        "train_data = pd.read_csv('train_features.csv')\n",
        "\n",
        "# Load test data from a separate CSV file\n",
        "test_data = pd.read_csv('test_features.csv')\n",
        "\n",
        "# Prepare training data\n",
        "X_train = train_data.iloc[:, 1:11]  # Select features\n",
        "y_train = train_data['target']  # Target variable\n",
        "\n",
        "# Prepare test data\n",
        "X_test = test_data.iloc[:, 1:11]  # Select features\n",
        "y_test = test_data['target']  # Target variable\n",
        "\n",
        "# Train the Logistic Regression model on the training data\n",
        "lr = LogisticRegression(max_iter=1000)\n",
        "lr.fit(X_train, y_train)\n",
        "\n",
        "# Predict classes for the training data\n",
        "y_train_pred = lr.predict(X_train)\n",
        "\n",
        "# Predict classes for the test data\n",
        "y_pred = lr.predict(X_test)\n",
        "\n",
        "# Evaluate model accuracy on the training data\n",
        "train_accuracy = accuracy_score(y_train, y_train_pred)\n",
        "train_error_rate = 1 - train_accuracy\n",
        "\n",
        "# Evaluate model accuracy on the test data\n",
        "accuracy = accuracy_score(y_test, y_pred)\n",
        "error_rate = 1 - accuracy\n",
        "\n",
        "print(f'Accuracy on the training data: {train_accuracy * 100:.2f}%')\n",
        "print(f'Error rate on the training data: {train_error_rate * 100:.2f}%')\n",
        "print(f'Accuracy on the test data: {accuracy * 100:.2f}%')\n",
        "print(f'Error rate on the test data: {error_rate * 100:.2f}%')\n",
        "\n",
        "# Count the number of elements in each predicted class for the training data\n",
        "predicted_class_counts_train = pd.Series(y_train_pred).value_counts().sort_index()\n",
        "print(\"\\nPredicted class counts in training data:\")\n",
        "print(predicted_class_counts_train)\n",
        "\n",
        "# Count the number of elements in each predicted class for the test data\n",
        "predicted_class_counts_test = pd.Series(y_pred).value_counts().sort_index()\n",
        "print(\"\\nPredicted class counts in test data:\")\n",
        "print(predicted_class_counts_test)"
      ]
    }
  ],
  "metadata": {
    "colab": {
      "provenance": []
    },
    "kernelspec": {
      "display_name": "Python 3",
      "name": "python3"
    },
    "language_info": {
      "name": "python"
    }
  },
  "nbformat": 4,
  "nbformat_minor": 0
}
